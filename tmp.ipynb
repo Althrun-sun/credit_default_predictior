{
 "cells": [
  {
   "cell_type": "code",
   "execution_count": 1,
   "id": "9b39c7c1-e1bd-4051-8ec0-8b606b7392d8",
   "metadata": {},
   "outputs": [],
   "source": [
    "import os.path\n",
    "import pandas as pd\n",
    "import numpy as np\n",
    "import matplotlib.pyplot as plt\n",
    "from docopt import docopt\n",
    "from joblib import load as joblib_load\n",
    "\n",
    "from sklearn.metrics import confusion_matrix\n",
    "from sklearn.metrics import ConfusionMatrixDisplay\n",
    "from sklearn.metrics import precision_recall_curve, precision_score, recall_score\n",
    "from sklearn.metrics import roc_curve\n",
    "from sklearn.metrics import classification_report\n",
    "from sklearn.metrics import f1_score"
   ]
  },
  {
   "cell_type": "code",
   "execution_count": 58,
   "id": "4fea1999-3b1f-4343-b69e-7fbdf8d3636a",
   "metadata": {},
   "outputs": [
    {
     "name": "stdout",
     "output_type": "stream",
     "text": [
      "<class 'pandas.core.frame.DataFrame'>\n",
      "Index: 5 entries, svc to knn\n",
      "Data columns (total 1 columns):\n",
      " #   Column         Non-Null Count  Dtype  \n",
      "---  ------         --------------  -----  \n",
      " 0   test_f1_score  5 non-null      float64\n",
      "dtypes: float64(1)\n",
      "memory usage: 80.0+ bytes\n"
     ]
    }
   ],
   "source": [
    "test_scores_sheet_path = 'results/test_scores/test_f1_scores.csv' \n",
    "test_scores_df = pd.read_csv(test_scores_sheet_path, index_col=0)\n",
    "test_scores_df.info()"
   ]
  },
  {
   "cell_type": "code",
   "execution_count": 47,
   "id": "f4fb27a5-8392-447c-a20b-ee56e8f15935",
   "metadata": {},
   "outputs": [
    {
     "data": {
      "text/plain": [
       "Dummy                               0.000 (+/- 0.000)\n",
       "RandomForestClassifier              0.476 (+/- 0.014)\n",
       "RandomForestClassifier Optimized    0.477 (+/- 0.019)\n",
       "kNN                                 0.430 (+/- 0.013)\n",
       "kNN Optimized                       0.430 (+/- 0.013)\n",
       "SCV                                 0.447 (+/- 0.021)\n",
       "SCV Optimized                       0.000 (+/- 0.000)\n",
       "Logistic Regression                 0.358 (+/- 0.011)\n",
       "Logistic Regression Otimized        0.345 (+/- 0.010)\n",
       "Name: test_f1, dtype: object"
      ]
     },
     "execution_count": 47,
     "metadata": {},
     "output_type": "execute_result"
    }
   ],
   "source": [
    "cv_scores_sheet_path = 'results/cross_validation_results.csv'\n",
    "cv_scores_df = pd.read_csv(cv_scores_sheet_path, index_col=0)\n",
    "train_f1_scores_raw = cv_scores_df.loc['test_f1',:]\n",
    "train_f1_scores_raw"
   ]
  },
  {
   "cell_type": "code",
   "execution_count": 65,
   "id": "00679138-4d7a-4587-9225-ab58087f6d2b",
   "metadata": {},
   "outputs": [],
   "source": [
    "model_names_map = {\n",
    "    'Dummy': 'dummy_classifier',\n",
    "    'SCV Optimized': 'svc',\n",
    "    'kNN Optimized': 'knn',\n",
    "    'Logistic Regression Otimized': 'logistic_regression',\n",
    "    'RandomForestClassifier Optimized': 'random_forest'\n",
    "}\n",
    "model_names_list = list(model_names_map.keys())\n",
    "train_f1_scores_series = train_f1_scores_raw[model_names_list]\n",
    "train_f1_scores_series = train_f1_scores_series.str.split(' ', expand=True).iloc[:, 0].rename('train_f1_score')\n",
    "train_f1_scores_series = train_f1_scores_series.rename(model_names_map)\n",
    "train_f1_scores_series = train_f1_scores_series.astype(np.float64)\n",
    "train_scores_df = pd.DataFrame(train_f1_scores_series)"
   ]
  },
  {
   "cell_type": "code",
   "execution_count": 66,
   "id": "22984099-6cb7-4d87-9a48-7c16f4524b36",
   "metadata": {},
   "outputs": [
    {
     "data": {
      "text/html": [
       "<div>\n",
       "<style scoped>\n",
       "    .dataframe tbody tr th:only-of-type {\n",
       "        vertical-align: middle;\n",
       "    }\n",
       "\n",
       "    .dataframe tbody tr th {\n",
       "        vertical-align: top;\n",
       "    }\n",
       "\n",
       "    .dataframe thead th {\n",
       "        text-align: right;\n",
       "    }\n",
       "</style>\n",
       "<table border=\"1\" class=\"dataframe\">\n",
       "  <thead>\n",
       "    <tr style=\"text-align: right;\">\n",
       "      <th></th>\n",
       "      <th>train_f1_score</th>\n",
       "    </tr>\n",
       "  </thead>\n",
       "  <tbody>\n",
       "    <tr>\n",
       "      <th>dummy_classifier</th>\n",
       "      <td>0.000</td>\n",
       "    </tr>\n",
       "    <tr>\n",
       "      <th>svc</th>\n",
       "      <td>0.000</td>\n",
       "    </tr>\n",
       "    <tr>\n",
       "      <th>knn</th>\n",
       "      <td>0.430</td>\n",
       "    </tr>\n",
       "    <tr>\n",
       "      <th>logistic_regression</th>\n",
       "      <td>0.345</td>\n",
       "    </tr>\n",
       "    <tr>\n",
       "      <th>random_forest</th>\n",
       "      <td>0.477</td>\n",
       "    </tr>\n",
       "  </tbody>\n",
       "</table>\n",
       "</div>"
      ],
      "text/plain": [
       "                     train_f1_score\n",
       "dummy_classifier              0.000\n",
       "svc                           0.000\n",
       "knn                           0.430\n",
       "logistic_regression           0.345\n",
       "random_forest                 0.477"
      ]
     },
     "execution_count": 66,
     "metadata": {},
     "output_type": "execute_result"
    }
   ],
   "source": [
    "train_scores_df"
   ]
  },
  {
   "cell_type": "code",
   "execution_count": 67,
   "id": "2894fe76-86bf-4f76-9d78-6068a8b720c5",
   "metadata": {},
   "outputs": [
    {
     "name": "stdout",
     "output_type": "stream",
     "text": [
      "<class 'pandas.core.frame.DataFrame'>\n",
      "Index: 5 entries, dummy_classifier to random_forest\n",
      "Data columns (total 1 columns):\n",
      " #   Column          Non-Null Count  Dtype  \n",
      "---  ------          --------------  -----  \n",
      " 0   train_f1_score  5 non-null      float64\n",
      "dtypes: float64(1)\n",
      "memory usage: 80.0+ bytes\n"
     ]
    }
   ],
   "source": [
    "train_scores_df.info()"
   ]
  },
  {
   "cell_type": "code",
   "execution_count": 68,
   "id": "77f2cbef-7bcd-4c7b-94ee-cafbb95e4071",
   "metadata": {},
   "outputs": [
    {
     "data": {
      "text/html": [
       "<div>\n",
       "<style scoped>\n",
       "    .dataframe tbody tr th:only-of-type {\n",
       "        vertical-align: middle;\n",
       "    }\n",
       "\n",
       "    .dataframe tbody tr th {\n",
       "        vertical-align: top;\n",
       "    }\n",
       "\n",
       "    .dataframe thead th {\n",
       "        text-align: right;\n",
       "    }\n",
       "</style>\n",
       "<table border=\"1\" class=\"dataframe\">\n",
       "  <thead>\n",
       "    <tr style=\"text-align: right;\">\n",
       "      <th></th>\n",
       "      <th>test_f1_score</th>\n",
       "    </tr>\n",
       "  </thead>\n",
       "  <tbody>\n",
       "    <tr>\n",
       "      <th>svc</th>\n",
       "      <td>0.000000</td>\n",
       "    </tr>\n",
       "    <tr>\n",
       "      <th>logistic_regression</th>\n",
       "      <td>0.348529</td>\n",
       "    </tr>\n",
       "    <tr>\n",
       "      <th>dummy_classifier</th>\n",
       "      <td>0.000000</td>\n",
       "    </tr>\n",
       "    <tr>\n",
       "      <th>random_forest</th>\n",
       "      <td>0.476865</td>\n",
       "    </tr>\n",
       "    <tr>\n",
       "      <th>knn</th>\n",
       "      <td>0.436105</td>\n",
       "    </tr>\n",
       "  </tbody>\n",
       "</table>\n",
       "</div>"
      ],
      "text/plain": [
       "                     test_f1_score\n",
       "svc                       0.000000\n",
       "logistic_regression       0.348529\n",
       "dummy_classifier          0.000000\n",
       "random_forest             0.476865\n",
       "knn                       0.436105"
      ]
     },
     "execution_count": 68,
     "metadata": {},
     "output_type": "execute_result"
    }
   ],
   "source": [
    "test_scores_df"
   ]
  },
  {
   "cell_type": "code",
   "execution_count": 69,
   "id": "812ba3f0-4218-4ad6-8f54-15ac9b66bf7f",
   "metadata": {},
   "outputs": [
    {
     "name": "stdout",
     "output_type": "stream",
     "text": [
      "<class 'pandas.core.frame.DataFrame'>\n",
      "Index: 5 entries, svc to knn\n",
      "Data columns (total 1 columns):\n",
      " #   Column         Non-Null Count  Dtype  \n",
      "---  ------         --------------  -----  \n",
      " 0   test_f1_score  5 non-null      float64\n",
      "dtypes: float64(1)\n",
      "memory usage: 80.0+ bytes\n"
     ]
    }
   ],
   "source": [
    "test_scores_df.info()"
   ]
  },
  {
   "cell_type": "code",
   "execution_count": 76,
   "id": "c3e1169b-4b86-4e2b-9f3c-d987438237d6",
   "metadata": {},
   "outputs": [
    {
     "data": {
      "text/html": [
       "<div>\n",
       "<style scoped>\n",
       "    .dataframe tbody tr th:only-of-type {\n",
       "        vertical-align: middle;\n",
       "    }\n",
       "\n",
       "    .dataframe tbody tr th {\n",
       "        vertical-align: top;\n",
       "    }\n",
       "\n",
       "    .dataframe thead th {\n",
       "        text-align: right;\n",
       "    }\n",
       "</style>\n",
       "<table border=\"1\" class=\"dataframe\">\n",
       "  <thead>\n",
       "    <tr style=\"text-align: right;\">\n",
       "      <th></th>\n",
       "      <th>train_f1_score</th>\n",
       "      <th>test_f1_score</th>\n",
       "    </tr>\n",
       "  </thead>\n",
       "  <tbody>\n",
       "    <tr>\n",
       "      <th>dummy_classifier</th>\n",
       "      <td>0.000</td>\n",
       "      <td>0.000000</td>\n",
       "    </tr>\n",
       "    <tr>\n",
       "      <th>svc</th>\n",
       "      <td>0.000</td>\n",
       "      <td>0.000000</td>\n",
       "    </tr>\n",
       "    <tr>\n",
       "      <th>knn</th>\n",
       "      <td>0.430</td>\n",
       "      <td>0.436105</td>\n",
       "    </tr>\n",
       "    <tr>\n",
       "      <th>logistic_regression</th>\n",
       "      <td>0.345</td>\n",
       "      <td>0.348529</td>\n",
       "    </tr>\n",
       "    <tr>\n",
       "      <th>random_forest</th>\n",
       "      <td>0.477</td>\n",
       "      <td>0.476865</td>\n",
       "    </tr>\n",
       "  </tbody>\n",
       "</table>\n",
       "</div>"
      ],
      "text/plain": [
       "                     train_f1_score  test_f1_score\n",
       "dummy_classifier              0.000       0.000000\n",
       "svc                           0.000       0.000000\n",
       "knn                           0.430       0.436105\n",
       "logistic_regression           0.345       0.348529\n",
       "random_forest                 0.477       0.476865"
      ]
     },
     "execution_count": 76,
     "metadata": {},
     "output_type": "execute_result"
    }
   ],
   "source": [
    "train_test_scores_df = pd.concat([train_scores_df, test_scores_df], axis=1)\n",
    "train_test_scores_df"
   ]
  }
 ],
 "metadata": {
  "kernelspec": {
   "display_name": "Python [conda env:522]",
   "language": "python",
   "name": "conda-env-522-py"
  },
  "language_info": {
   "codemirror_mode": {
    "name": "ipython",
    "version": 3
   },
   "file_extension": ".py",
   "mimetype": "text/x-python",
   "name": "python",
   "nbconvert_exporter": "python",
   "pygments_lexer": "ipython3",
   "version": "3.11.0"
  }
 },
 "nbformat": 4,
 "nbformat_minor": 5
}
