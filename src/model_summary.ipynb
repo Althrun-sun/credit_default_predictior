{
 "cells": [
  {
   "cell_type": "code",
   "execution_count": null,
   "id": "40e39fd6-56bb-429f-868a-6699d14b7335",
   "metadata": {},
   "outputs": [],
   "source": []
  }
 ],
 "metadata": {
  "kernelspec": {
   "display_name": "Python [conda env:573]",
   "language": "python",
   "name": "conda-env-573-py"
  },
  "language_info": {
   "name": ""
  }
 },
 "nbformat": 4,
 "nbformat_minor": 5
}
